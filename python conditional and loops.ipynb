{
 "cells": [
  {
   "cell_type": "markdown",
   "id": "ea510591",
   "metadata": {},
   "source": [
    "Check number\n",
    "\n",
    "Given an integer n, find if n is positive, negative or 0.\n",
    "If n is positive, print \"Positive\"\n",
    "If n is negative, print \"Negative\"\n",
    "And if n is equal to 0, print \"Zero\".\n",
    "Input Format :\n",
    "Integer n\n",
    "Output Format :\n",
    "\"Positive\" or \"Negative\" or \"Zero\" (without double quotes)\n",
    "Constraints :\n",
    "-100 <= n <= 100\n",
    "Sample Input 1 :\n",
    "10\n",
    "Sample Output 1 :\n",
    "Positive\n",
    "Sample Input 2 :\n",
    "-10\n",
    "Sample Output 2 :\n",
    "Negative"
   ]
  },
  {
   "cell_type": "code",
   "execution_count": 1,
   "id": "5fe6bdaa",
   "metadata": {},
   "outputs": [
    {
     "name": "stdout",
     "output_type": "stream",
     "text": [
      "-10\n",
      "Negative\n"
     ]
    }
   ],
   "source": [
    "#check number\n",
    "n =int(input())\n",
    "\n",
    "if n>0:\n",
    "    print('Positive')\n",
    "elif n < 0:\n",
    "\n",
    "    print(\"Negative\")\n",
    "else:\n",
    "    print(\"Zero\")     "
   ]
  },
  {
   "cell_type": "markdown",
   "id": "29af85f4",
   "metadata": {},
   "source": [
    "Sum of n numbers\n",
    "\n",
    "\n",
    "Given an integer n, find and print the sum of numbers from 1 to n.\n",
    "Note : Use while loop only.\n",
    "Input Format :\n",
    "Integer n\n",
    "Output Format :\n",
    "Sum\n",
    "Constraints :\n",
    "1 <= n <= 100\n",
    "Sample Input :\n",
    "10\n",
    "Sample Output :\n",
    "55"
   ]
  },
  {
   "cell_type": "code",
   "execution_count": 2,
   "id": "f2c9b959",
   "metadata": {},
   "outputs": [
    {
     "name": "stdout",
     "output_type": "stream",
     "text": [
      "10\n",
      "55\n"
     ]
    }
   ],
   "source": [
    "#sum of n numbers\n",
    "n = int(input())\n",
    "i = 1\n",
    "y = 0\n",
    "\n",
    "while i <= n:\n",
    "    y = y+i\n",
    "    i = i + 1\n",
    "\n",
    "print(y)"
   ]
  },
  {
   "cell_type": "markdown",
   "id": "11d8c228",
   "metadata": {},
   "source": [
    "Sum of Even Numbers\n",
    "\n",
    "Given a number N, print sum of all even numbers from 1 to N.\n",
    "Input Format :\n",
    "Integer N\n",
    "Output Format :\n",
    "Required Sum \n",
    "Sample Input 1 :\n",
    " 6\n",
    "Sample Output 1 :\n",
    "12"
   ]
  },
  {
   "cell_type": "code",
   "execution_count": 5,
   "id": "0b819786",
   "metadata": {},
   "outputs": [
    {
     "name": "stdout",
     "output_type": "stream",
     "text": [
      "6\n",
      "12\n"
     ]
    }
   ],
   "source": [
    "#sum of even numbers\n",
    "n=int(input())\n",
    "i=1\n",
    "y=0\n",
    "\n",
    "while i<=n:\n",
    "    if i%2==0:\n",
    "        y=y+i\n",
    "    i =  i+1  \n",
    "    \n",
    "\n",
    "print(y)    "
   ]
  },
  {
   "cell_type": "markdown",
   "id": "5b54d13d",
   "metadata": {},
   "source": [
    "Fahrenheit to Celsius\n",
    "\n",
    "Given three values - Start Fahrenheit Value (S), End Fahrenheit value (E) and Step Size (W), you need to convert all Fahrenheit values from Start to End at the gap of W, into their corresponding Celsius values and print the table.\n",
    "Input Format :\n",
    "3 integers - S, E and W respectively \n",
    "Output Format :\n",
    "Fahrenheit to Celsius conversion table. One line for every Fahrenheit and corresponding Celsius value in integer form. The Fahrenheit value and its corresponding Celsius value should be separate by single space.\n",
    "Constraints :\n",
    "0 <= S <= 90\n",
    "S <= E <=  900\n",
    "0 <= W <= 80 \n",
    "Sample Input 1:\n",
    "0 \n",
    "100 \n",
    "20\n",
    "Sample Output 1:\n",
    "0   -17\n",
    "20  -6\n",
    "40  4\n",
    "60  15\n",
    "80  26\n",
    "100 37\n",
    "Sample Input 2:\n",
    "20\n",
    "119\n",
    "13\n",
    "Sample Output 2:\n",
    "20  -6\n",
    "33  0 \n",
    "46  7\n",
    "59  15\n",
    "72  22\n",
    "85  29\n",
    "98  36\n",
    "111 43\n",
    "Explanation For Input 2:\n",
    "Start calculating the Celsius values for each Fahrenheit Value which starts from 20. So starting from 20, we need to compute its corresponding Celsius value which computes to -6. We print this information as <Fahrenheit Value> <a single space> <Celsius Value> on each line. Now add 13 to Fahrenheit Value at each step until you reach 119 in this case. You may or may not exactly land on the end value depending on the steps you are taking."
   ]
  },
  {
   "cell_type": "code",
   "execution_count": 6,
   "id": "efc829a9",
   "metadata": {},
   "outputs": [
    {
     "name": "stdout",
     "output_type": "stream",
     "text": [
      "0\n",
      "100\n",
      "20\n",
      "0   -17\n",
      "20   -6\n",
      "40   4\n",
      "60   15\n",
      "80   26\n",
      "100   37\n"
     ]
    }
   ],
   "source": [
    "#farenheit to celsius\n",
    "x=int(input())\n",
    "y=int(input())\n",
    "z=int(input())\n",
    "c=0\n",
    "\n",
    "while (x<= y):\n",
    "    c=(x - 32) * 5/9\n",
    "    print(x,\" \",int(c))\n",
    "    x=x+z"
   ]
  },
  {
   "cell_type": "markdown",
   "id": "5b0f739c",
   "metadata": {},
   "source": [
    "Calculator\n",
    "\n",
    "Write a program that performs the tasks of a simple calculator. The program should first take an integer as input and then based on that integer perform the task as given below.\n",
    "1. If the input is 1, then 2 integers are taken from the user and their sum is printed.\n",
    "2. If the input is 2, then 2 integers are taken from the user and their difference(1st number - 2nd number) is printed.\n",
    "3. If the input is 3, then 2 integers are taken from the user and their product is printed.\n",
    "4. If the input is 4, then 2 integers are taken from the user and the quotient obtained (on dividing 1st number by 2nd number) is printed.\n",
    "5. If the input is 5, then 2 integers are taken from the user and their remainder(1st number mod 2nd number) is printed.\n",
    "6. If the input is 6, then the program exits.\n",
    "7. For any other input, then print \"Invalid Operation\".\n",
    "Note: Each answer in next line.\n",
    "Input format:\n",
    "Take integers as input, in accordance to the description of the question. \n",
    "Constraints:\n",
    "Time Limit: 1 second\n",
    "Output format:\n",
    "The output lines must be as prescribed in the description of the question.\n",
    "Sample Input:\n",
    "3\n",
    "1\n",
    "2\n",
    "4\n",
    "4\n",
    "2\n",
    "1\n",
    "3\n",
    "2\n",
    "7\n",
    "6\n",
    "Sample Output:\n",
    "2\n",
    "2\n",
    "5\n",
    "Invalid Operation\n",
    "Explanation of the sample input\n",
    "The first number given is 3, so that means two more numbers will be given and we'll have to multiply them and show the result. The two numbers are 1 and 2. Their product is 2, so 2 is displayed first in the output. Similarly, all the numbers are processed in groups of three. The first number tells the operation and the next two numbers tell on which numbers the operation is done. This applies to numbers from 1 to 5. If the input is 6 (like it is at the end), two more numbers will NOT be provided, you simply have to exit the program. Also, if the input is any number except 1 to 6 (like 7 which is at the second last), then you simply have to print \"Invalid Operation\""
   ]
  },
  {
   "cell_type": "code",
   "execution_count": 11,
   "id": "60eb9a8b",
   "metadata": {},
   "outputs": [
    {
     "name": "stdout",
     "output_type": "stream",
     "text": [
      "1\n",
      "233\n",
      "4\n",
      "237\n",
      "7\n",
      "Invalid Operation\n",
      "6\n"
     ]
    }
   ],
   "source": [
    "#calculator\n",
    "cal = True\n",
    "while cal:\n",
    "    n = int(input())\n",
    "\n",
    "    if n == 1:\n",
    "        y = int(input())\n",
    "        z = int(input())\n",
    "        r = y+z\n",
    "        print(r)\n",
    "\n",
    "    elif n == 2:\n",
    "        y = int(input())\n",
    "        z = int(input())\n",
    "        print(y-z)\n",
    "\n",
    "    elif n == 3:\n",
    "        y = int(input())\n",
    "        z = int(input())\n",
    "        print(y*z)\n",
    "    elif n == 4:\n",
    "        y = int(input())\n",
    "        z = int(input())\n",
    "        print(y//z)\n",
    "    elif n == 5:\n",
    "        y = int(input())\n",
    "        z = int(input())\n",
    "\n",
    "        print(y % z)\n",
    "    elif n == 6:\n",
    "        cal = False\n",
    "\n",
    "    else:\n",
    "        print('Invalid Operation')"
   ]
  },
  {
   "cell_type": "markdown",
   "id": "6e0c0fc4",
   "metadata": {},
   "source": [
    "Reverse of a number\n",
    "\n",
    "Write a program to generate the reverse of a given number N. Print the corresponding reverse number.\n",
    "Note : If a number has trailing zeros, then its reverse will not include them. For e.g., reverse of 10400 will be 401 instead of 00401.\n",
    "\n",
    "\n",
    "Input format :\n",
    "Integer N\n",
    "Output format :\n",
    "Corresponding reverse number\n",
    "Constraints:\n",
    "0 <= N < 10^8\n",
    "Sample Input 1 :\n",
    "1234\n",
    "Sample Output 1 :\n",
    "4321\n",
    "Sample Input 2 :\n",
    "1980\n",
    "Sample Output 2 :\n",
    "891"
   ]
  },
  {
   "cell_type": "code",
   "execution_count": 12,
   "id": "37d30a21",
   "metadata": {},
   "outputs": [
    {
     "name": "stdout",
     "output_type": "stream",
     "text": [
      "1234\n",
      "4321\n"
     ]
    }
   ],
   "source": [
    "#reverse a no\n",
    "n = int(input())\n",
    "r = 0\n",
    "while n > 0:\n",
    "    k = n % 10\n",
    "    r = (r*10)+k\n",
    "    n = n//10\n",
    "\n",
    "print(r)\n"
   ]
  },
  {
   "cell_type": "markdown",
   "id": "11e81430",
   "metadata": {},
   "source": [
    "Palindrome number\n",
    "\n",
    "Write a program to determine if given number is palindrome or not. Print true if it is palindrome, false otherwise.\n",
    "Palindrome are the numbers for which reverse is exactly same as the original one. For eg. 121\n",
    "Sample Input 1 :\n",
    "121\n",
    "Sample Output 1 :\n",
    "true\n",
    "Sample Input 2 :\n",
    "1032\n",
    "Sample Output 2 :\n",
    "false"
   ]
  },
  {
   "cell_type": "code",
   "execution_count": 13,
   "id": "47ddaba7",
   "metadata": {},
   "outputs": [
    {
     "name": "stdout",
     "output_type": "stream",
     "text": [
      "11211\n",
      "true\n"
     ]
    }
   ],
   "source": [
    "#pallindrome no\n",
    "def checkPalindrome(num):\n",
    "\tp = num\n",
    "\tr=0\n",
    "\twhile p>0:\n",
    "\t\tk=p%10\n",
    "\t\tr=(r*10)+k\n",
    "\t\tp=p//10\n",
    "\tif r==num:\n",
    "\t\treturn(True)\n",
    "\n",
    "\n",
    "num = int(input())\n",
    "isPalindrome = checkPalindrome(num)\n",
    "if(isPalindrome):\n",
    "\tprint('true')\n",
    "else:\n",
    "\tprint('false')\n"
   ]
  },
  {
   "cell_type": "markdown",
   "id": "13983c1c",
   "metadata": {},
   "source": [
    "Sum of even & odd\n",
    "\n",
    "Write a program to input an integer N and print the sum of all its even digits and sum of all its odd digits separately.\n",
    "Digits mean numbers, not the places! That is, if the given integer is \"13245\", even digits are 2 & 4 and odd digits are 1, 3 & 5.\n",
    "Input format :\n",
    " Integer N\n",
    "Output format :\n",
    "Sum_of_Even_Digits Sum_of_Odd_Digits\n",
    "(Print first even sum and then odd sum separated by space)\n",
    "Constraints\n",
    "0 <= N <= 10^8\n",
    "Sample Input 1:\n",
    "1234\n",
    "Sample Output 1:\n",
    "6 4\n",
    "Sample Input 2:\n",
    "552245\n",
    "Sample Output 2:\n",
    "8 15\n",
    "Explanation for Input 2:\n",
    "For the given input, the even digits are 2, 2 and 4 and if we take the sum of these digits it will come out to be 8(2 + 2 + 4) and similarly, if we look at the odd digits, they are, 5, 5 and 5 which makes a sum of 15(5 + 5 + 5). Hence the answer would be, 8(evenSum) <single space> 15(oddSum)"
   ]
  },
  {
   "cell_type": "code",
   "execution_count": 14,
   "id": "18b67e92",
   "metadata": {},
   "outputs": [
    {
     "name": "stdout",
     "output_type": "stream",
     "text": [
      "1234\n",
      "6 4\n"
     ]
    }
   ],
   "source": [
    "# sum of even and odd\n",
    "n = int(input())\n",
    "p = n\n",
    "r = 0\n",
    "o=0\n",
    "while n>0:\n",
    "    k=n%10\n",
    "    if k%2==0:\n",
    "        r=r+k\n",
    "    else:\n",
    "        o=o+k\n",
    "    n=n//10\n",
    "print(r,o)    "
   ]
  },
  {
   "cell_type": "markdown",
   "id": "2cc251d8",
   "metadata": {},
   "source": [
    "Nth Fibonacci Number\n",
    "\n",
    "Nth term of Fibonacci series F(n), where F(n) is a function, is calculated using the following formula -\n",
    "    F(n) = F(n-1) + F(n-2), \n",
    "    Where, F(1) =  1, \n",
    "           F(2) = 1\n",
    "Provided N you have to find out the Nth Fibonacci Number.\n",
    "Input Format :\n",
    "The first line of each test case contains a real number ‘N’.\n",
    "Output Format :\n",
    "For each test case, return its equivalent Fibonacci number.\n",
    "Constraints:\n",
    "1 <= N <= 10000     \n",
    "Where ‘N’ represents the number for which we have to find its equivalent Fibonacci number.\n",
    "\n",
    "Time Limit: 1 second\n",
    "Sample Input 1:\n",
    "6\n",
    "Sample Output 1:\n",
    "8\n",
    "Explanation of Sample Input 1:\n",
    "Now the number is ‘6’ so we have to find the “6th” Fibonacci number\n",
    "So by using the property of the Fibonacci series i.e \n",
    "\n",
    "[ 1, 1, 2, 3, 5, 8, 13, 21]\n",
    "So the “6th” element is “8” hence we get the output."
   ]
  },
  {
   "cell_type": "code",
   "execution_count": 15,
   "id": "f5230272",
   "metadata": {},
   "outputs": [
    {
     "name": "stdout",
     "output_type": "stream",
     "text": [
      "6\n",
      "8\n"
     ]
    }
   ],
   "source": [
    "#nth fibonacci\n",
    "n=int(input())\n",
    "a=0\n",
    "b=0\n",
    "c=1\n",
    "\n",
    "if n==1:\n",
    "    \n",
    "    print('1')\n",
    "elif n==2:\n",
    "    print('1')\n",
    "elif n>2:    \n",
    "    for i in range(1,n):\n",
    "        a=b+c\n",
    "        b=c\n",
    "        c=a\n",
    "\n",
    "    print(a)    \n",
    "    \n"
   ]
  },
  {
   "cell_type": "code",
   "execution_count": null,
   "id": "8d880f4b",
   "metadata": {},
   "outputs": [],
   "source": []
  }
 ],
 "metadata": {
  "kernelspec": {
   "display_name": "Python 3 (ipykernel)",
   "language": "python",
   "name": "python3"
  },
  "language_info": {
   "codemirror_mode": {
    "name": "ipython",
    "version": 3
   },
   "file_extension": ".py",
   "mimetype": "text/x-python",
   "name": "python",
   "nbconvert_exporter": "python",
   "pygments_lexer": "ipython3",
   "version": "3.9.13"
  }
 },
 "nbformat": 4,
 "nbformat_minor": 5
}
